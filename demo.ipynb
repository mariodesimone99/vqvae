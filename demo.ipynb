{
 "cells": [
  {
   "cell_type": "markdown",
   "metadata": {},
   "source": [
    "# Import"
   ]
  },
  {
   "cell_type": "code",
   "execution_count": 1,
   "metadata": {},
   "outputs": [],
   "source": [
    "import torch\n",
    "import torchaudio\n",
    "import matplotlib.pyplot as plt\n",
    "from torch.utils.data.dataset import Dataset\n",
    "from torchaudio.datasets import VCTK_092\n",
    "\n",
    "import numpy as np\n",
    "from torch.utils.data import DataLoader, TensorDataset\n",
    "import torch.nn as nn\n",
    "import torch.nn.functional as F\n",
    "from torch.utils.tensorboard.writer import SummaryWriter\n",
    "from tqdm import tqdm\n",
    "import os\n",
    "\n",
    "from IPython.display import Audio\n",
    "from IPython.display import display"
   ]
  },
  {
   "cell_type": "markdown",
   "metadata": {},
   "source": [
    "# Cuda Manegement"
   ]
  },
  {
   "cell_type": "code",
   "execution_count": 2,
   "metadata": {},
   "outputs": [
    {
     "name": "stdout",
     "output_type": "stream",
     "text": [
      "Total Memory: 12779126784\n",
      "Reserved Memory: 0\n",
      "Allocated Memory: 0\n",
      "Free Memory: 0\n"
     ]
    }
   ],
   "source": [
    "torch.cuda.empty_cache()\n",
    "t = torch.cuda.get_device_properties(0).total_memory\n",
    "r = torch.cuda.memory_reserved(0)\n",
    "a = torch.cuda.memory_allocated(0)\n",
    "f = r-a  # free inside reserved\n",
    "print(f\"Total Memory: {t}\")\n",
    "print(f\"Reserved Memory: {r}\")\n",
    "print(f\"Allocated Memory: {a}\")\n",
    "print(f\"Free Memory: {f}\")"
   ]
  },
  {
   "cell_type": "markdown",
   "metadata": {},
   "source": [
    "# Hyperparameters"
   ]
  },
  {
   "cell_type": "code",
   "execution_count": 3,
   "metadata": {},
   "outputs": [],
   "source": [
    "BATCH_SIZE = 32\n",
    "EPOCHS = 10\n",
    "WAVE_LENGTH = 81920#40960\n",
    "LEARNING_RATE = 0.001\n",
    "SPLIT = 0.5"
   ]
  },
  {
   "cell_type": "markdown",
   "metadata": {},
   "source": [
    "# Utility Methods"
   ]
  },
  {
   "cell_type": "code",
   "execution_count": 4,
   "metadata": {},
   "outputs": [],
   "source": [
    "def nparams(model):\n",
    "    return sum(p.numel() for p in model.parameters() if p.requires_grad)\n",
    "\n",
    "def get_device():\n",
    "    return 'cuda' if torch.cuda.is_available() else 'cpu'\n",
    "\n",
    "def plot_waveform(waveform, sample_rate, limit=False):\n",
    "    waveform = waveform.numpy()\n",
    "\n",
    "    num_channels, num_frames = waveform.shape\n",
    "    time_axis = torch.arange(0, num_frames) / sample_rate\n",
    "\n",
    "    figure, axes = plt.subplots(num_channels, 1)\n",
    "    if limit:\n",
    "        axes.set_ylim(-1, 1)\n",
    "    if num_channels == 1:\n",
    "        axes = [axes]\n",
    "    for c in range(num_channels):\n",
    "        axes[c].plot(time_axis, waveform[c], linewidth=1)\n",
    "        axes[c].grid(True)\n",
    "        if num_channels > 1:\n",
    "            axes[c].set_ylabel(f\"Channel {c+1}\")\n",
    "    figure.suptitle(\"waveform\")"
   ]
  },
  {
   "cell_type": "markdown",
   "metadata": {},
   "source": [
    "# Dataset Class for deal with audio tracks"
   ]
  },
  {
   "cell_type": "code",
   "execution_count": 5,
   "metadata": {},
   "outputs": [],
   "source": [
    "class EqualDataset(Dataset):\n",
    "    def __init__(self, dataset, wave_length):\n",
    "        self.data = dataset\n",
    "        \n",
    "        #self.idx_to_speaker = self.data._speaker_ids\n",
    "        self.wave_length = wave_length\n",
    "\n",
    "        # train_size = 1\n",
    "        # val_size = len(self.data) - train_size\n",
    "        # train_dataset, _ = torch.utils.data.random_split(self.data, [train_size, val_size])\n",
    "        # self.data = train_dataset\n",
    "            \n",
    "\n",
    "    def __getitem__(self, index):\n",
    "        waveform, sample_rate, _, speaker_id, _ = self.data[index]\n",
    "        #speaker_id = self.idx_to_speaker.index(speaker_id)\n",
    "        wave_length = waveform.shape[1]\n",
    "        if wave_length > self.wave_length:\n",
    "            waveform = self._random_cut_(waveform, wave_length)\n",
    "        elif wave_length < self.wave_length:\n",
    "            waveform = torch.cat([waveform, torch.zeros(1, self.wave_length - wave_length)], dim=1)\n",
    "        return waveform, sample_rate, speaker_id\n",
    "\n",
    "    def __len__(self):\n",
    "        return len(self.data)\n",
    "    \n",
    "    def _random_cut_(self, w, wl):\n",
    "        start = torch.randint(wl - self.wave_length, (1,))\n",
    "        wave = w[:, start:start+self.wave_length]\n",
    "        return wave\n",
    "    \n",
    "    def get_max_id(self):\n",
    "        return len(self.idx_to_speaker)"
   ]
  },
  {
   "cell_type": "markdown",
   "metadata": {},
   "source": [
    "# Trainer Class for training, saving and plotting results"
   ]
  },
  {
   "cell_type": "code",
   "execution_count": 6,
   "metadata": {},
   "outputs": [],
   "source": [
    "class Trainer:\n",
    "    def __init__(self, device, model, opt, path=None):\n",
    "        self.device = device\n",
    "        self.model = model\n",
    "        self.model.to(self.device)\n",
    "        self.opt = opt\n",
    "        self.loss_train = []\n",
    "        self.loss_test = []\n",
    "        self.abs_mean_train = []\n",
    "        self.abs_mean_test = []\n",
    "        self.epochs = 0\n",
    "        if path:\n",
    "            self.model.load_state_dict(torch.load(path))\n",
    "            \n",
    "    def train(self, epochs, dl_train, dl_test=None, check=100, save=False):\n",
    "        self.model.train()\n",
    "        self.loss_train = []\n",
    "        self.loss_test = []\n",
    "        self.abs_mean_train = []\n",
    "        self.abs_mean_test = []\n",
    "        for i in range(self.epochs+1,self.epochs+epochs+1):\n",
    "            avg_loss_train, abs_mean_tr = self._train_epoch_(dl_train, i)\n",
    "            self.abs_mean_train.append(abs_mean_tr)\n",
    "            self.loss_train.append(avg_loss_train)\n",
    "            if i%check==0 and i !=0:\n",
    "                print(f\"Epoch {i} -> Train Loss: {avg_loss_train}\")\n",
    "                if save:\n",
    "                    model_string = self.model.name + \".pt\"\n",
    "                    path = \"./models/\" + model_string\n",
    "                    torch.save(self.model.state_dict(), path)\n",
    "            if dl_test:\n",
    "                avg_loss_test, abs_mean_te = self._test_epoch_(dl_test, i)\n",
    "                self.loss_test.append(avg_loss_test)\n",
    "                self.abs_mean_test.append(abs_mean_te)\n",
    "                if i%check==0 and i !=0:\n",
    "                    print(f\"Epoch {i} -> Test Loss: {avg_loss_test}\")\n",
    "\n",
    "            self.epochs += 1\n",
    "        self._plot_()\n",
    "\n",
    "    def get_index_dataset(self, dl_train):\n",
    "        with torch.no_grad():\n",
    "            idx = torch.tensor([])\n",
    "            for waveform, _, _ in tqdm(dl_train, desc=f'Getting Indexes', leave = False):\n",
    "                waveform = waveform.float().to(self.device)\n",
    "                min_idx = self.model.get_vq_indexes(waveform)\n",
    "                idx = torch.cat([idx, min_idx.cpu()])\n",
    "            return idx\n",
    "    \n",
    "    def _train_epoch_(self, dl_train, epoch):\n",
    "        epoch_loss = 0\n",
    "        for waveform, _, speaker_id in tqdm(dl_train, desc=f'Training epoch {epoch}', leave = False):\n",
    "            waveform = waveform.float().to(self.device)\n",
    "            logits, vq_loss = self.model(waveform)\n",
    "            total_loss = F.mse_loss(logits, waveform) + vq_loss\n",
    "            abs_mean = torch.mean(torch.abs(logits - waveform)).item()\n",
    "\n",
    "            self.opt.zero_grad()\n",
    "            total_loss.backward()\n",
    "            self.opt.step()\n",
    "            epoch_loss += total_loss.item()\n",
    "        return epoch_loss / len(dl_train), abs_mean\n",
    "    \n",
    "    def _test_epoch_(self, dl_test, epoch):\n",
    "        epoch_loss = 0\n",
    "        with torch.no_grad():\n",
    "            for waveform, _, speaker_id in tqdm(dl_test, desc=f'Testing epoch {epoch}', leave = False):\n",
    "                waveform = waveform.float().to(self.device)\n",
    "                logits, vq_loss = self.model(waveform)\n",
    "                total_loss = F.mse_loss(logits, waveform) + vq_loss\n",
    "                epoch_loss += total_loss.item()\n",
    "                abs_mean = torch.mean(torch.abs(logits - waveform)).item()\n",
    "            return epoch_loss / len(dl_test), abs_mean\n",
    "\n",
    "    def _plot_(self):\n",
    "        fig, (axs) = plt.subplots(2,1)\n",
    "\n",
    "        axs[0].plot(self.loss_train, label=\"Train\", color=\"red\")\n",
    "        #axs[0].set_xlabel(\"Epochs\")\n",
    "        axs[0].set_ylabel(\"Loss\")\n",
    "\n",
    "        axs[1].plot(self.abs_mean_train, label=\"Train\", color=\"red\")\n",
    "        axs[1].set_xlabel(\"Epochs\")\n",
    "        axs[1].set_ylabel(\"Mean Absolute Error\")\n",
    "\n",
    "        if self.loss_test:\n",
    "            axs[0].plot(self.loss_test, label=\"Test\", color=\"blue\")\n",
    "            axs[0].legend(loc=\"upper right\")\n",
    "            axs[1].plot(self.abs_mean_test, label=\"Test\", color=\"blue\")\n",
    "            axs[1].legend(loc=\"upper right\")"
   ]
  },
  {
   "cell_type": "markdown",
   "metadata": {},
   "source": [
    "# Data Initialization"
   ]
  },
  {
   "cell_type": "code",
   "execution_count": 7,
   "metadata": {},
   "outputs": [],
   "source": [
    "vctk = VCTK_092(\"./datasets\", download=True)\n",
    "train_size = int(SPLIT * len(vctk))\n",
    "val_size = len(vctk) - train_size\n",
    "train_dataset, val_dataset = torch.utils.data.random_split(vctk, [train_size, val_size])\n",
    "\n",
    "vctk_train_eq = EqualDataset(train_dataset, WAVE_LENGTH)\n",
    "vctk_train_dl = DataLoader(vctk_train_eq, batch_size=BATCH_SIZE, shuffle=True)\n",
    "\n",
    "vctk_val_eq = EqualDataset(val_dataset, WAVE_LENGTH)\n",
    "vctk_val_dl = DataLoader(vctk_val_eq, batch_size=BATCH_SIZE, shuffle=True)"
   ]
  },
  {
   "cell_type": "code",
   "execution_count": null,
   "metadata": {},
   "outputs": [],
   "source": [
    "# vctk_train = VCTK_092(\"./datasets\", download=True)\n",
    "# vctk_eq = EqualDataset(vctk_train, WAVE_LENGTH)\n",
    "# vctk_train_dl = DataLoader(vctk_eq, batch_size=BATCH_SIZE, shuffle=True)"
   ]
  },
  {
   "cell_type": "code",
   "execution_count": 30,
   "metadata": {},
   "outputs": [
    {
     "name": "stdout",
     "output_type": "stream",
     "text": [
      "torch.Size([32, 1, 81920])\n",
      "torch.Size([32])\n"
     ]
    }
   ],
   "source": [
    "for _, (waveform, sample_rate, speaker_id) in enumerate(vctk_train_dl):\n",
    "    print(waveform.shape)\n",
    "    print(sample_rate.shape)\n",
    "    #print(speaker_id.shape)\n",
    "    break"
   ]
  },
  {
   "cell_type": "code",
   "execution_count": 31,
   "metadata": {},
   "outputs": [
    {
     "data": {
      "image/png": "[encoded data removed]",
      "text/plain": [
       "<Figure size 640x480 with 1 Axes>"
      ]
     },
     "metadata": {},
     "output_type": "display_data"
    }
   ],
   "source": [
    "plot_waveform(waveform[0], sample_rate[0])"
   ]
  },
  {
   "cell_type": "markdown",
   "metadata": {},
   "source": [
    "# Network Definition"
   ]
  },
  {
   "cell_type": "code",
   "execution_count": 8,
   "metadata": {},
   "outputs": [],
   "source": [
    "class ResBlock(nn.Module):\n",
    "    def __init__(self, channels, kernel_size):\n",
    "        super().__init__()\n",
    "        self.block = nn.Sequential(*[\n",
    "            nn.Conv1d(channels, channels, kernel_size, padding=\"same\", bias=False),\n",
    "            nn.BatchNorm1d(channels),\n",
    "            nn.Tanh(),\n",
    "            nn.Conv1d(channels, channels, kernel_size, padding=\"same\", bias=False),\n",
    "            nn.BatchNorm1d(channels),\n",
    "        ])\n",
    "\n",
    "    def forward(self, x):\n",
    "        out = self.block(x)\n",
    "        out = out + x\n",
    "        return F.tanh(out)"
   ]
  },
  {
   "cell_type": "code",
   "execution_count": 9,
   "metadata": {},
   "outputs": [],
   "source": [
    "class ConvEncoderBlock(nn.Module):\n",
    "    def __init__(self, in_channels, out_channels, res_blocks, kernel_size):\n",
    "        super().__init__()\n",
    "        self.in_block = nn.Sequential(*[\n",
    "            nn.Conv1d(in_channels, out_channels, kernel_size, stride=2, padding=1, bias=False),\n",
    "            nn.BatchNorm1d(out_channels),\n",
    "            nn.Tanh()\n",
    "        ])\n",
    "        self.res_block = nn.Sequential(*[ResBlock(out_channels, kernel_size) for _ in range(res_blocks)])\n",
    "\n",
    "    def forward(self, x):\n",
    "        out = self.in_block(x)\n",
    "        return self.res_block(out)\n",
    "        #return out"
   ]
  },
  {
   "cell_type": "code",
   "execution_count": 10,
   "metadata": {},
   "outputs": [],
   "source": [
    "class Encoder(nn.Module):\n",
    "    def __init__(self, hidden_dim, emb_dim, res_blocks, kernel_size=3):\n",
    "        super().__init__()\n",
    "        self.blocks = nn.Sequential(*[ConvEncoderBlock(hidden_dim[i], hidden_dim[i+1], res_blocks, kernel_size) for i in range(len(hidden_dim)-1)])\n",
    "        self.emb_conv = nn.Sequential(*[\n",
    "            nn.Conv1d(hidden_dim[-1], emb_dim, kernel_size, padding=\"same\", bias=False),\n",
    "            nn.BatchNorm1d(emb_dim),\n",
    "            nn.Tanh(),\n",
    "        ])\n",
    "\n",
    "    def forward(self, x):\n",
    "        out = self.blocks(x)\n",
    "        return self.emb_conv(out)"
   ]
  },
  {
   "cell_type": "code",
   "execution_count": 11,
   "metadata": {},
   "outputs": [],
   "source": [
    "class VQ(nn.Module):\n",
    "    #K=nemb=dimension of the discrete space (eq quantize each input, among one of K vectors)\n",
    "    #D=emb_dim=dimension of the embedding space\n",
    "    def __init__(self, emb_dim=64, nemb=512, beta=0.25):\n",
    "        super().__init__()\n",
    "        self.emb_dim = emb_dim\n",
    "        self.nemb = nemb\n",
    "        self.beta = beta\n",
    "        self.embedding = nn.Embedding(nemb, emb_dim)\n",
    "        self.embedding.weight.data.uniform_(-1/nemb, 1/nemb)\n",
    "\n",
    "    def forward(self, x): #x has shape B, C, T\n",
    "        #We want to express the data as points of embedding dimension without taking into account batch and time dimension\n",
    "        B, C, T = x.shape\n",
    "        z_e = x.permute(0, 2, 1)\n",
    "        z_e = z_e.reshape(B*T, self.emb_dim)\n",
    "        #dist has shape B*T, nemb\n",
    "        dist = torch.cdist(z_e, self.embedding.weight, p=2)\n",
    "        #We want to find the closest embedding vector for each point\n",
    "        min_idx = torch.argmin(dist, dim=1)\n",
    "        min_one_hot = F.one_hot(min_idx, num_classes=self.nemb).float()\n",
    "        e = min_one_hot @ self.embedding.weight\n",
    "\n",
    "        #restore the original shape but now with the embedded points\n",
    "        e = e.view(B, T, self.emb_dim).permute(0, 2, 1)\n",
    "        vq_loss = F.mse_loss(x.detach(), e) + self.beta * F.mse_loss(x, e.detach())\n",
    "        return e, vq_loss, min_idx.reshape(B,-1)"
   ]
  },
  {
   "cell_type": "code",
   "execution_count": 12,
   "metadata": {},
   "outputs": [],
   "source": [
    "class ConvTransposeDecoder1d(nn.Module):\n",
    "    def __init__(self, in_channels, out_channels, kernel_size):\n",
    "        super().__init__()\n",
    "        self.conv = nn.ConvTranspose1d(in_channels, out_channels, kernel_size, stride=2, padding=1, bias=False)\n",
    "\n",
    "    def forward(self, x):\n",
    "        B,C,T = x.shape\n",
    "        out = self.conv(x, output_size=(B,int(C/2),T*2))\n",
    "        return out"
   ]
  },
  {
   "cell_type": "code",
   "execution_count": 13,
   "metadata": {},
   "outputs": [],
   "source": [
    "class TransposeConvBlock(nn.Module):\n",
    "    def __init__(self, in_channels, out_channels, res_blocks, kernel_size):\n",
    "        super().__init__()\n",
    "        self.trans_block = nn.Sequential(*[\n",
    "            ConvTransposeDecoder1d(in_channels, out_channels, kernel_size),\n",
    "            nn.BatchNorm1d(out_channels),\n",
    "            nn.Tanh()\n",
    "        ])\n",
    "        self.res_block = nn.Sequential(*[ResBlock(out_channels, kernel_size) for _ in range(res_blocks)])\n",
    "\n",
    "    def forward(self, x):\n",
    "        out = self.trans_block(x)\n",
    "        return self.res_block(out)"
   ]
  },
  {
   "cell_type": "code",
   "execution_count": 14,
   "metadata": {},
   "outputs": [],
   "source": [
    "class Decoder(nn.Module):\n",
    "    def __init__(self, hidden_dim, emb_dim, res_blocks, kernel_size=3):\n",
    "        super().__init__()\n",
    "        self.emb_conv = nn.Sequential(*[\n",
    "            nn.Conv1d(emb_dim, hidden_dim[0], kernel_size, padding=\"same\", bias=False),\n",
    "            nn.BatchNorm1d(hidden_dim[0]),\n",
    "            nn.Tanh()\n",
    "        ])\n",
    "        self.up_layers = nn.Sequential(*[TransposeConvBlock(hidden_dim[i], hidden_dim[i+1], res_blocks, kernel_size) for i in range(len(hidden_dim)-1)])\n",
    "\n",
    "    def forward(self, x):\n",
    "        out = self.emb_conv(x)\n",
    "        out = self.up_layers(out)\n",
    "        return out\n"
   ]
  },
  {
   "cell_type": "code",
   "execution_count": 15,
   "metadata": {},
   "outputs": [],
   "source": [
    "class VQVAE(nn.Module):\n",
    "    def __init__(self, in_channels=1, start_dim=16, nemb=512, emb_dim=1024, ndown=6, res_blocks=1, kernel_size=3, beta = 0.25):\n",
    "        super().__init__()\n",
    "        self.name = \"VQVAE \" + \"nemb=\" + str(nemb) + \" emb_dim=\" + str(emb_dim) + \" ndown=\" + str(ndown)\n",
    "        hidden_dim = [in_channels] + [int(start_dim*(2**i)) for i in range(ndown)]\n",
    "\n",
    "        self.encoder = Encoder(hidden_dim, emb_dim, res_blocks, kernel_size)\n",
    "        self.vq = VQ(emb_dim, nemb, beta)\n",
    "        hidden_dim.reverse()\n",
    "        self.decoder = Decoder(hidden_dim, emb_dim, res_blocks, kernel_size)\n",
    "\n",
    "\n",
    "    def forward(self, x):\n",
    "        z_e = self.encoder(x)\n",
    "        z_q, vq_loss, _ = self.vq(z_e)\n",
    "        #Add the connection between the input the decoder and the output of the encoder, to propagate the gradient\n",
    "        z_q = z_e + (z_q - z_e).detach()\n",
    "        x_hat = self.decoder(z_q)\n",
    "        return x_hat, vq_loss\n",
    "\n",
    "    def get_vq_indexes(self, x):\n",
    "        z_e = self.encoder(x)\n",
    "        _, _, min_idx = self.vq(z_e)\n",
    "        return min_idx\n"
   ]
  },
  {
   "cell_type": "markdown",
   "metadata": {},
   "source": [
    "# Training"
   ]
  },
  {
   "cell_type": "code",
   "execution_count": 32,
   "metadata": {},
   "outputs": [
    {
     "name": "stdout",
     "output_type": "stream",
     "text": [
      "Using device: cuda\n",
      "4596140\n"
     ]
    }
   ],
   "source": [
    "device = get_device()\n",
    "print(f\"Using device: {device}\")\n",
    "model_vctk = VQVAE(in_channels=1, start_dim=16, nemb=512, emb_dim=256, ndown=6, res_blocks=1, kernel_size=3)\n",
    "print(nparams(model_vctk))\n",
    "#print(model_vctk)\n",
    "opt_vctk = torch.optim.Adam(model_vctk.parameters(), lr=LEARNING_RATE, weight_decay=LEARNING_RATE/10)\n",
    "trainer_vctk = Trainer(device, model_vctk, opt_vctk)"
   ]
  },
  {
   "cell_type": "code",
   "execution_count": 38,
   "metadata": {},
   "outputs": [
    {
     "name": "stderr",
     "output_type": "stream",
     "text": [
      "                                                                    \r"
     ]
    },
    {
     "name": "stdout",
     "output_type": "stream",
     "text": [
      "Epoch 11 -> Train Loss: 0.0030938482277554193\n"
     ]
    },
    {
     "name": "stderr",
     "output_type": "stream",
     "text": [
      "                                                                    \r"
     ]
    },
    {
     "name": "stdout",
     "output_type": "stream",
     "text": [
      "Epoch 12 -> Train Loss: 0.003090159682612649\n"
     ]
    },
    {
     "name": "stderr",
     "output_type": "stream",
     "text": [
      "                                                                    \r"
     ]
    },
    {
     "ename": "KeyboardInterrupt",
     "evalue": "",
     "output_type": "error",
     "traceback": [
      "\u001b[0;31m---------------------------------------------------------------------------\u001b[0m",
      "\u001b[0;31mKeyboardInterrupt\u001b[0m                         Traceback (most recent call last)",
      "Cell \u001b[0;32mIn[38], line 1\u001b[0m\n\u001b[0;32m----> 1\u001b[0m \u001b[43mtrainer_vctk\u001b[49m\u001b[38;5;241;43m.\u001b[39;49m\u001b[43mtrain\u001b[49m\u001b[43m(\u001b[49m\u001b[43mepochs\u001b[49m\u001b[38;5;241;43m=\u001b[39;49m\u001b[38;5;241;43m10\u001b[39;49m\u001b[43m,\u001b[49m\u001b[43m \u001b[49m\u001b[43mdl_train\u001b[49m\u001b[38;5;241;43m=\u001b[39;49m\u001b[43mvctk_train_dl\u001b[49m\u001b[43m,\u001b[49m\u001b[43m \u001b[49m\u001b[43mcheck\u001b[49m\u001b[38;5;241;43m=\u001b[39;49m\u001b[38;5;241;43m1\u001b[39;49m\u001b[43m,\u001b[49m\u001b[43m \u001b[49m\u001b[43msave\u001b[49m\u001b[38;5;241;43m=\u001b[39;49m\u001b[38;5;28;43;01mTrue\u001b[39;49;00m\u001b[43m)\u001b[49m\n",
      "Cell \u001b[0;32mIn[28], line 22\u001b[0m, in \u001b[0;36mTrainer.train\u001b[0;34m(self, epochs, dl_train, dl_test, check, save)\u001b[0m\n\u001b[1;32m     20\u001b[0m \u001b[38;5;28mself\u001b[39m\u001b[38;5;241m.\u001b[39mabs_mean_test \u001b[38;5;241m=\u001b[39m []\n\u001b[1;32m     21\u001b[0m \u001b[38;5;28;01mfor\u001b[39;00m i \u001b[38;5;129;01min\u001b[39;00m \u001b[38;5;28mrange\u001b[39m(\u001b[38;5;28mself\u001b[39m\u001b[38;5;241m.\u001b[39mepochs\u001b[38;5;241m+\u001b[39m\u001b[38;5;241m1\u001b[39m,\u001b[38;5;28mself\u001b[39m\u001b[38;5;241m.\u001b[39mepochs\u001b[38;5;241m+\u001b[39mepochs\u001b[38;5;241m+\u001b[39m\u001b[38;5;241m1\u001b[39m):\n\u001b[0;32m---> 22\u001b[0m     avg_loss_train, abs_mean_tr \u001b[38;5;241m=\u001b[39m \u001b[38;5;28;43mself\u001b[39;49m\u001b[38;5;241;43m.\u001b[39;49m\u001b[43m_train_epoch_\u001b[49m\u001b[43m(\u001b[49m\u001b[43mdl_train\u001b[49m\u001b[43m,\u001b[49m\u001b[43m \u001b[49m\u001b[43mi\u001b[49m\u001b[43m)\u001b[49m\n\u001b[1;32m     23\u001b[0m     \u001b[38;5;28mself\u001b[39m\u001b[38;5;241m.\u001b[39mabs_mean_train\u001b[38;5;241m.\u001b[39mappend(abs_mean_tr)\n\u001b[1;32m     24\u001b[0m     \u001b[38;5;28mself\u001b[39m\u001b[38;5;241m.\u001b[39mloss_train\u001b[38;5;241m.\u001b[39mappend(avg_loss_train)\n",
      "Cell \u001b[0;32mIn[28], line 61\u001b[0m, in \u001b[0;36mTrainer._train_epoch_\u001b[0;34m(self, dl_train, epoch)\u001b[0m\n\u001b[1;32m     59\u001b[0m     total_loss\u001b[38;5;241m.\u001b[39mbackward()\n\u001b[1;32m     60\u001b[0m     \u001b[38;5;28mself\u001b[39m\u001b[38;5;241m.\u001b[39mopt\u001b[38;5;241m.\u001b[39mstep()\n\u001b[0;32m---> 61\u001b[0m     epoch_loss \u001b[38;5;241m+\u001b[39m\u001b[38;5;241m=\u001b[39m \u001b[43mtotal_loss\u001b[49m\u001b[38;5;241;43m.\u001b[39;49m\u001b[43mitem\u001b[49m\u001b[43m(\u001b[49m\u001b[43m)\u001b[49m\n\u001b[1;32m     62\u001b[0m \u001b[38;5;28;01mreturn\u001b[39;00m epoch_loss \u001b[38;5;241m/\u001b[39m \u001b[38;5;28mlen\u001b[39m(dl_train), abs_mean\n",
      "\u001b[0;31mKeyboardInterrupt\u001b[0m: "
     ]
    }
   ],
   "source": [
    "trainer_vctk.train(epochs=10, dl_train=vctk_train_dl, check=1, save=True)"
   ]
  },
  {
   "cell_type": "code",
   "execution_count": 39,
   "metadata": {},
   "outputs": [
    {
     "name": "stdout",
     "output_type": "stream",
     "text": [
      "0.0002852682664524764\n"
     ]
    },
    {
     "data": {
      "image/png": "[encoded data removed]",
      "text/plain": [
       "<Figure size 640x480 with 1 Axes>"
      ]
     },
     "metadata": {},
     "output_type": "display_data"
    }
   ],
   "source": [
    "with torch.no_grad():\n",
    "    model_vctk.eval()\n",
    "    logits, vq_loss = model_vctk(waveform[1].unsqueeze(0).float().to(device))\n",
    "    print(F.mse_loss(logits, waveform[1].unsqueeze(0).float().to(device)).item())\n",
    "    plot_waveform(logits[0].detach().cpu(), sample_rate[0])"
   ]
  },
  {
   "cell_type": "code",
   "execution_count": 35,
   "metadata": {},
   "outputs": [
    {
     "data": {
      "image/png": "[encoded data removed]",
      "text/plain": [
       "<Figure size 640x480 with 1 Axes>"
      ]
     },
     "metadata": {},
     "output_type": "display_data"
    }
   ],
   "source": [
    "plot_waveform(waveform[1], sample_rate[0])"
   ]
  },
  {
   "cell_type": "code",
   "execution_count": null,
   "metadata": {},
   "outputs": [],
   "source": [
    "audio_original = Audio(waveform[1].detach().cpu(), rate=sample_rate[0].item())\n",
    "display(audio_original)"
   ]
  },
  {
   "cell_type": "code",
   "execution_count": null,
   "metadata": {},
   "outputs": [],
   "source": [
    "audio_reconstructed = Audio(logits[0].detach().cpu(), rate=sample_rate[0].item())\n",
    "display(audio_reconstructed)"
   ]
  },
  {
   "cell_type": "markdown",
   "metadata": {},
   "source": [
    "# Test on Validation DataLoader"
   ]
  },
  {
   "cell_type": "code",
   "execution_count": 36,
   "metadata": {},
   "outputs": [
    {
     "name": "stdout",
     "output_type": "stream",
     "text": [
      "torch.Size([32, 1, 81920])\n",
      "torch.Size([32])\n"
     ]
    }
   ],
   "source": [
    "for _, (waveform_val, sample_rate_val, _) in enumerate(vctk_val_dl):\n",
    "    print(waveform_val.shape)\n",
    "    print(sample_rate_val.shape)\n",
    "    #print(speaker_id.shape)\n",
    "    break"
   ]
  },
  {
   "cell_type": "code",
   "execution_count": 37,
   "metadata": {},
   "outputs": [
    {
     "name": "stdout",
     "output_type": "stream",
     "text": [
      "0.0009714585612528026\n"
     ]
    },
    {
     "data": {
      "image/png": "[encoded data removed]",
      "text/plain": [
       "<Figure size 640x480 with 1 Axes>"
      ]
     },
     "metadata": {},
     "output_type": "display_data"
    }
   ],
   "source": [
    "with torch.no_grad():\n",
    "    model_vctk.eval()\n",
    "    logits, vq_loss = model_vctk(waveform_val[1].unsqueeze(0).float().to(device))\n",
    "    print(F.mse_loss(logits, waveform_val[1].unsqueeze(0).float().to(device)).item())\n",
    "    plot_waveform(logits[0].detach().cpu(), sample_rate_val[0])"
   ]
  },
  {
   "cell_type": "code",
   "execution_count": null,
   "metadata": {},
   "outputs": [],
   "source": [
    "plot_waveform(waveform_val[1], sample_rate[0])"
   ]
  },
  {
   "cell_type": "code",
   "execution_count": null,
   "metadata": {},
   "outputs": [],
   "source": [
    "audio_original = Audio(waveform_val[1].detach().cpu(), rate=sample_rate[0].item())\n",
    "display(audio_original)"
   ]
  },
  {
   "cell_type": "code",
   "execution_count": null,
   "metadata": {},
   "outputs": [],
   "source": [
    "audio_reconstructed = Audio(logits[0].detach().cpu(), rate=sample_rate[0].item())\n",
    "display(audio_reconstructed)"
   ]
  },
  {
   "cell_type": "markdown",
   "metadata": {},
   "source": [
    "# Load Model"
   ]
  },
  {
   "cell_type": "code",
   "execution_count": 16,
   "metadata": {},
   "outputs": [
    {
     "name": "stdout",
     "output_type": "stream",
     "text": [
      "Using device: cuda\n"
     ]
    }
   ],
   "source": [
    "device = get_device()\n",
    "print(f\"Using device: {device}\")\n",
    "model_vctk = VQVAE(in_channels=1, start_dim=16, nemb=512, emb_dim=1024, ndown=6, res_blocks=1, kernel_size=3)\n",
    "opt_vctk = torch.optim.Adam(model_vctk.parameters(), lr=LEARNING_RATE, weight_decay=LEARNING_RATE/10)\n",
    "\n",
    "model_string = model_vctk.name + \".pt\"\n",
    "path = \"./models/\" + model_string\n",
    "trainer_vctk = Trainer(device, model_vctk, opt_vctk, path)"
   ]
  },
  {
   "cell_type": "markdown",
   "metadata": {},
   "source": [
    "# Dataset of VQ Indexes"
   ]
  },
  {
   "cell_type": "code",
   "execution_count": 17,
   "metadata": {},
   "outputs": [
    {
     "name": "stderr",
     "output_type": "stream",
     "text": [
      "                                                                  "
     ]
    },
    {
     "name": "stdout",
     "output_type": "stream",
     "text": [
      "torch.Size([21936, 1280])\n"
     ]
    },
    {
     "name": "stderr",
     "output_type": "stream",
     "text": [
      "\r"
     ]
    }
   ],
   "source": [
    "idx_dataset = trainer_vctk.get_index_dataset(vctk_train_dl)\n",
    "print(idx_dataset.shape)    "
   ]
  },
  {
   "cell_type": "code",
   "execution_count": 18,
   "metadata": {},
   "outputs": [],
   "source": [
    "dim = 0\n",
    "perm = torch.randperm(idx_dataset.shape[dim])\n",
    "idx_dataset = idx_dataset[perm]\n",
    "train_size = int(0.8 * len(idx_dataset))\n",
    "val_size = len(idx_dataset) - train_size\n",
    "train_idx, val_idx = idx_dataset[:train_size], idx_dataset[train_size:]"
   ]
  },
  {
   "cell_type": "code",
   "execution_count": 19,
   "metadata": {},
   "outputs": [],
   "source": [
    "train_dl_idx = DataLoader(TensorDataset(train_idx[:, :-1].unsqueeze(1), train_idx[:, 1:]), batch_size=BATCH_SIZE, shuffle=True)\n",
    "val_dl_idx = DataLoader(TensorDataset(val_idx[:, :-1].unsqueeze(1), val_idx[:, 1:]), batch_size=BATCH_SIZE, shuffle=True)"
   ]
  },
  {
   "cell_type": "code",
   "execution_count": 20,
   "metadata": {},
   "outputs": [
    {
     "name": "stdout",
     "output_type": "stream",
     "text": [
      "torch.Size([32, 1, 1279]) torch.Size([32, 1279])\n"
     ]
    }
   ],
   "source": [
    "for _, (idx_src,idx_tgt) in enumerate(train_dl_idx):\n",
    "    print(idx_src.shape, idx_tgt.shape)\n",
    "    break"
   ]
  },
  {
   "cell_type": "markdown",
   "metadata": {},
   "source": [
    "# WaveNet Architecture"
   ]
  },
  {
   "cell_type": "code",
   "execution_count": 21,
   "metadata": {},
   "outputs": [],
   "source": [
    "class WaveTrainer:\n",
    "    def __init__(self, device, model, opt, path=None):\n",
    "        self.device = device\n",
    "        self.model = model\n",
    "        self.model.to(self.device)\n",
    "        self.opt = opt\n",
    "        self.loss_train = []\n",
    "        self.loss_test = []\n",
    "        self.epochs = 0\n",
    "        if path:\n",
    "            self.model.load_state_dict(torch.load(path))\n",
    "            \n",
    "    def train(self, epochs, dl_train, dl_test=None, check=100, save=False):\n",
    "        self.model.train()\n",
    "        self.loss_train = []\n",
    "        self.loss_test = []\n",
    "        for i in range(self.epochs+1,self.epochs+epochs+1):\n",
    "            avg_loss_train = self._train_epoch_(dl_train, i)\n",
    "            self.loss_train.append(avg_loss_train)\n",
    "            if i%check==0 and i !=0:\n",
    "                print(f\"Epoch {i} -> Train Loss: {avg_loss_train}\")\n",
    "                if save:\n",
    "                    model_string = self.model.name + \".pt\"\n",
    "                    path = \"./models/\" + model_string\n",
    "                    torch.save(self.model.state_dict(), path)\n",
    "                if dl_test:\n",
    "                    avg_loss_test = self._test_epoch_(dl_test, i)\n",
    "                    print(f\"Epoch {i} -> Test  Loss: {avg_loss_test}\")\n",
    "            self.epochs += 1\n",
    "        self._plot_()\n",
    "    \n",
    "    def _train_epoch_(self, dl_train, epoch):\n",
    "        epoch_loss = 0\n",
    "        for x, y in tqdm(dl_train, desc=f'Testing epoch {epoch}', leave = False):\n",
    "            x = x.to(self.device)\n",
    "            y = y.long().to(self.device)\n",
    "            logits = self.model(x)\n",
    "            total_loss = nn.CrossEntropyLoss()(logits, y)\n",
    "\n",
    "            self.opt.zero_grad()\n",
    "            total_loss.backward()\n",
    "            self.opt.step()\n",
    "            epoch_loss += total_loss.item()\n",
    "        return epoch_loss / len(dl_train)\n",
    "    \n",
    "    def _test_epoch_(self, dl_test, epoch):\n",
    "        with torch.no_grad():\n",
    "            epoch_loss = 0\n",
    "            for x, y in tqdm(dl_test, desc=f'Training epoch {epoch}', leave = False):\n",
    "                x = x.to(self.device)\n",
    "                y = y.long().to(self.device)\n",
    "                logits = self.model(x)\n",
    "                total_loss = nn.CrossEntropyLoss()(logits, y)\n",
    "                epoch_loss += total_loss.item()\n",
    "            return epoch_loss / len(dl_test)\n",
    "\n",
    "    def _plot_(self):\n",
    "        fig, (axs) = plt.subplots(1,1)\n",
    "\n",
    "        axs.plot(self.loss_train, label=\"Train\", color=\"red\")\n",
    "        axs.set_xlabel(\"Epochs\")\n",
    "        axs.set_ylabel(\"Loss\")"
   ]
  },
  {
   "cell_type": "code",
   "execution_count": 22,
   "metadata": {},
   "outputs": [],
   "source": [
    "class CausalConv1d(nn.Module):\n",
    "    def __init__(self, in_channels, out_channels, kernel_size, dilation=1):\n",
    "        super().__init__()\n",
    "        self.pad = (kernel_size - 1)*dilation\n",
    "        self.conv = nn.Conv1d(in_channels, out_channels, kernel_size, dilation=dilation, padding=self.pad, bias=False)\n",
    "\n",
    "    def forward(self, x):\n",
    "        out = self.conv(x)\n",
    "        out = out[:, :, :-self.pad] #we remove the extra element top of the tensor that could not be inferred\n",
    "        return out"
   ]
  },
  {
   "cell_type": "code",
   "execution_count": 23,
   "metadata": {},
   "outputs": [],
   "source": [
    "class GatedUnitBlock(nn.Module):\n",
    "    def __init__(self, res_channels, skip_channels, kernel_size, dilation):\n",
    "        super().__init__()\n",
    "        self.sigma_conv = nn.Sequential(\n",
    "            CausalConv1d(res_channels, res_channels, kernel_size, dilation=dilation),\n",
    "            nn.Sigmoid()\n",
    "        )\n",
    "        self.tan_conv = nn.Sequential(\n",
    "            CausalConv1d(res_channels, res_channels, kernel_size, dilation=dilation),\n",
    "            nn.Tanh()\n",
    "        )\n",
    "        self.res_out = nn.Conv1d(res_channels, res_channels, 1)\n",
    "        self.skip_conv = nn.Conv1d(res_channels, skip_channels, 1)\n",
    "\n",
    "\n",
    "    def forward(self, x):\n",
    "        sigma = self.sigma_conv(x)\n",
    "        tan = self.tan_conv(x)\n",
    "        out = sigma * tan\n",
    "        res_out = self.res_out(out) + x\n",
    "        skip_out = self.skip_conv(out)\n",
    "        return res_out, skip_out"
   ]
  },
  {
   "cell_type": "code",
   "execution_count": 24,
   "metadata": {},
   "outputs": [],
   "source": [
    "class WaveNet(nn.Module):\n",
    "    def __init__(self, in_channels, res_channels, skip_channels, kernel_size, nclasses, ndilations):\n",
    "        super().__init__()\n",
    "        self.name = \"WaveNet \" + \"res_channels=\" + str(res_channels) + \" skip_channels=\" + str(skip_channels) + \" ndilations=\" + str(ndilations)\n",
    "        self.start_conv = nn.Conv1d(in_channels, res_channels, 1)\n",
    "        self.blocks = nn.ModuleList([GatedUnitBlock(res_channels, skip_channels, kernel_size, 2**i) for i in range(ndilations)])\n",
    "        self.out_layers = nn.Sequential(\n",
    "            nn.Conv1d(skip_channels, nclasses, 1),\n",
    "            nn.ReLU(),\n",
    "            nn.Conv1d(nclasses, nclasses, 1)\n",
    "        )\n",
    "\n",
    "    def forward(self, x):\n",
    "        out = self.start_conv(x)\n",
    "        skip_connections = 0\n",
    "        for block in self.blocks:\n",
    "            res_out, skip_out = block(out)\n",
    "            skip_connections = skip_connections + skip_out\n",
    "            out = res_out\n",
    "        out = F.relu(skip_connections)\n",
    "        out = self.out_layers(out)\n",
    "        return out"
   ]
  },
  {
   "cell_type": "code",
   "execution_count": 25,
   "metadata": {},
   "outputs": [
    {
     "name": "stdout",
     "output_type": "stream",
     "text": [
      "444288\n",
      "WaveNet(\n",
      "  (start_conv): Conv1d(1, 64, kernel_size=(1,), stride=(1,))\n",
      "  (blocks): ModuleList(\n",
      "    (0): GatedUnitBlock(\n",
      "      (sigma_conv): Sequential(\n",
      "        (0): CausalConv1d(\n",
      "          (conv): Conv1d(64, 64, kernel_size=(2,), stride=(1,), padding=(1,), bias=False)\n",
      "        )\n",
      "        (1): Sigmoid()\n",
      "      )\n",
      "      (tan_conv): Sequential(\n",
      "        (0): CausalConv1d(\n",
      "          (conv): Conv1d(64, 64, kernel_size=(2,), stride=(1,), padding=(1,), bias=False)\n",
      "        )\n",
      "        (1): Tanh()\n",
      "      )\n",
      "      (res_out): Conv1d(64, 64, kernel_size=(1,), stride=(1,))\n",
      "      (skip_conv): Conv1d(64, 128, kernel_size=(1,), stride=(1,))\n",
      "    )\n",
      "    (1): GatedUnitBlock(\n",
      "      (sigma_conv): Sequential(\n",
      "        (0): CausalConv1d(\n",
      "          (conv): Conv1d(64, 64, kernel_size=(2,), stride=(1,), padding=(2,), dilation=(2,), bias=False)\n",
      "        )\n",
      "        (1): Sigmoid()\n",
      "      )\n",
      "      (tan_conv): Sequential(\n",
      "        (0): CausalConv1d(\n",
      "          (conv): Conv1d(64, 64, kernel_size=(2,), stride=(1,), padding=(2,), dilation=(2,), bias=False)\n",
      "        )\n",
      "        (1): Tanh()\n",
      "      )\n",
      "      (res_out): Conv1d(64, 64, kernel_size=(1,), stride=(1,))\n",
      "      (skip_conv): Conv1d(64, 128, kernel_size=(1,), stride=(1,))\n",
      "    )\n",
      "    (2): GatedUnitBlock(\n",
      "      (sigma_conv): Sequential(\n",
      "        (0): CausalConv1d(\n",
      "          (conv): Conv1d(64, 64, kernel_size=(2,), stride=(1,), padding=(4,), dilation=(4,), bias=False)\n",
      "        )\n",
      "        (1): Sigmoid()\n",
      "      )\n",
      "      (tan_conv): Sequential(\n",
      "        (0): CausalConv1d(\n",
      "          (conv): Conv1d(64, 64, kernel_size=(2,), stride=(1,), padding=(4,), dilation=(4,), bias=False)\n",
      "        )\n",
      "        (1): Tanh()\n",
      "      )\n",
      "      (res_out): Conv1d(64, 64, kernel_size=(1,), stride=(1,))\n",
      "      (skip_conv): Conv1d(64, 128, kernel_size=(1,), stride=(1,))\n",
      "    )\n",
      "    (3): GatedUnitBlock(\n",
      "      (sigma_conv): Sequential(\n",
      "        (0): CausalConv1d(\n",
      "          (conv): Conv1d(64, 64, kernel_size=(2,), stride=(1,), padding=(8,), dilation=(8,), bias=False)\n",
      "        )\n",
      "        (1): Sigmoid()\n",
      "      )\n",
      "      (tan_conv): Sequential(\n",
      "        (0): CausalConv1d(\n",
      "          (conv): Conv1d(64, 64, kernel_size=(2,), stride=(1,), padding=(8,), dilation=(8,), bias=False)\n",
      "        )\n",
      "        (1): Tanh()\n",
      "      )\n",
      "      (res_out): Conv1d(64, 64, kernel_size=(1,), stride=(1,))\n",
      "      (skip_conv): Conv1d(64, 128, kernel_size=(1,), stride=(1,))\n",
      "    )\n",
      "  )\n",
      "  (out_layers): Sequential(\n",
      "    (0): Conv1d(128, 512, kernel_size=(1,), stride=(1,))\n",
      "    (1): ReLU()\n",
      "    (2): Conv1d(512, 512, kernel_size=(1,), stride=(1,))\n",
      "  )\n",
      ")\n"
     ]
    }
   ],
   "source": [
    "wave_vctk = WaveNet(in_channels=1, res_channels=64, skip_channels=128, kernel_size=2, nclasses=512, ndilations=4)\n",
    "print(nparams(wave_vctk))\n",
    "print(wave_vctk)\n",
    "wave_opt = torch.optim.Adam(wave_vctk.parameters(), lr=0.01, weight_decay=LEARNING_RATE/10)\n",
    "trainer_wave = WaveTrainer(device, wave_vctk, wave_opt)"
   ]
  },
  {
   "cell_type": "code",
   "execution_count": 28,
   "metadata": {},
   "outputs": [
    {
     "name": "stderr",
     "output_type": "stream",
     "text": [
      "                                                                    \r"
     ]
    },
    {
     "name": "stdout",
     "output_type": "stream",
     "text": [
      "Epoch 210 -> Train Loss: 1.1484922449662602\n"
     ]
    },
    {
     "name": "stderr",
     "output_type": "stream",
     "text": [
      "                                                                     \r"
     ]
    },
    {
     "name": "stdout",
     "output_type": "stream",
     "text": [
      "Epoch 210 -> Test  Loss: 1.0990944319013236\n"
     ]
    },
    {
     "name": "stderr",
     "output_type": "stream",
     "text": [
      "                                                                    \r"
     ]
    },
    {
     "name": "stdout",
     "output_type": "stream",
     "text": [
      "Epoch 220 -> Train Loss: 1.451366011996521\n"
     ]
    },
    {
     "name": "stderr",
     "output_type": "stream",
     "text": [
      "                                                                     \r"
     ]
    },
    {
     "name": "stdout",
     "output_type": "stream",
     "text": [
      "Epoch 220 -> Test  Loss: 1.470481999542402\n"
     ]
    },
    {
     "name": "stderr",
     "output_type": "stream",
     "text": [
      "                                                                    \r"
     ]
    },
    {
     "name": "stdout",
     "output_type": "stream",
     "text": [
      "Epoch 230 -> Train Loss: 1.216452183619223\n"
     ]
    },
    {
     "name": "stderr",
     "output_type": "stream",
     "text": [
      "                                                                     \r"
     ]
    },
    {
     "name": "stdout",
     "output_type": "stream",
     "text": [
      "Epoch 230 -> Test  Loss: 1.1819581734961357\n"
     ]
    },
    {
     "name": "stderr",
     "output_type": "stream",
     "text": [
      "                                                                    \r"
     ]
    },
    {
     "name": "stdout",
     "output_type": "stream",
     "text": [
      "Epoch 240 -> Train Loss: 1.0615949966217\n"
     ]
    },
    {
     "name": "stderr",
     "output_type": "stream",
     "text": [
      "                                                                     \r"
     ]
    },
    {
     "name": "stdout",
     "output_type": "stream",
     "text": [
      "Epoch 240 -> Test  Loss: 1.0160697236441183\n"
     ]
    },
    {
     "name": "stderr",
     "output_type": "stream",
     "text": [
      "                                                                    \r"
     ]
    },
    {
     "name": "stdout",
     "output_type": "stream",
     "text": [
      "Epoch 250 -> Train Loss: 1.1045838832203807\n"
     ]
    },
    {
     "name": "stderr",
     "output_type": "stream",
     "text": [
      "                                                                     \r"
     ]
    },
    {
     "name": "stdout",
     "output_type": "stream",
     "text": [
      "Epoch 250 -> Test  Loss: 1.0877026267673657\n"
     ]
    },
    {
     "name": "stderr",
     "output_type": "stream",
     "text": [
      "                                                                    \r"
     ]
    },
    {
     "name": "stdout",
     "output_type": "stream",
     "text": [
      "Epoch 260 -> Train Loss: 0.7570293123387682\n"
     ]
    },
    {
     "name": "stderr",
     "output_type": "stream",
     "text": [
      "                                                                     \r"
     ]
    },
    {
     "name": "stdout",
     "output_type": "stream",
     "text": [
      "Epoch 260 -> Test  Loss: 0.7578709721565247\n"
     ]
    },
    {
     "name": "stderr",
     "output_type": "stream",
     "text": [
      "                                                                    \r"
     ]
    },
    {
     "name": "stdout",
     "output_type": "stream",
     "text": [
      "Epoch 270 -> Train Loss: 1.0568536455948279\n"
     ]
    },
    {
     "name": "stderr",
     "output_type": "stream",
     "text": [
      "                                                                     \r"
     ]
    },
    {
     "name": "stdout",
     "output_type": "stream",
     "text": [
      "Epoch 270 -> Test  Loss: 1.00855384486309\n"
     ]
    },
    {
     "name": "stderr",
     "output_type": "stream",
     "text": [
      "                                                                    \r"
     ]
    },
    {
     "name": "stdout",
     "output_type": "stream",
     "text": [
      "Epoch 280 -> Train Loss: 1.048400186992951\n"
     ]
    },
    {
     "name": "stderr",
     "output_type": "stream",
     "text": [
      "                                                                     \r"
     ]
    },
    {
     "name": "stdout",
     "output_type": "stream",
     "text": [
      "Epoch 280 -> Test  Loss: 1.0394961544568988\n"
     ]
    },
    {
     "name": "stderr",
     "output_type": "stream",
     "text": [
      "                                                                    \r"
     ]
    },
    {
     "ename": "KeyboardInterrupt",
     "evalue": "",
     "output_type": "error",
     "traceback": [
      "\u001b[0;31m---------------------------------------------------------------------------\u001b[0m",
      "\u001b[0;31mKeyboardInterrupt\u001b[0m                         Traceback (most recent call last)",
      "Cell \u001b[0;32mIn[28], line 1\u001b[0m\n\u001b[0;32m----> 1\u001b[0m \u001b[43mtrainer_wave\u001b[49m\u001b[38;5;241;43m.\u001b[39;49m\u001b[43mtrain\u001b[49m\u001b[43m(\u001b[49m\u001b[43mepochs\u001b[49m\u001b[38;5;241;43m=\u001b[39;49m\u001b[38;5;241;43m100\u001b[39;49m\u001b[43m,\u001b[49m\u001b[43m \u001b[49m\u001b[43mdl_train\u001b[49m\u001b[38;5;241;43m=\u001b[39;49m\u001b[43mtrain_dl_idx\u001b[49m\u001b[43m,\u001b[49m\u001b[43m \u001b[49m\u001b[43mdl_test\u001b[49m\u001b[38;5;241;43m=\u001b[39;49m\u001b[43mval_dl_idx\u001b[49m\u001b[43m,\u001b[49m\u001b[43m \u001b[49m\u001b[43mcheck\u001b[49m\u001b[38;5;241;43m=\u001b[39;49m\u001b[38;5;241;43m10\u001b[39;49m\u001b[43m,\u001b[49m\u001b[43m \u001b[49m\u001b[43msave\u001b[49m\u001b[38;5;241;43m=\u001b[39;49m\u001b[38;5;28;43;01mTrue\u001b[39;49;00m\u001b[43m)\u001b[49m\n",
      "Cell \u001b[0;32mIn[21], line 18\u001b[0m, in \u001b[0;36mWaveTrainer.train\u001b[0;34m(self, epochs, dl_train, dl_test, check, save)\u001b[0m\n\u001b[1;32m     16\u001b[0m \u001b[38;5;28mself\u001b[39m\u001b[38;5;241m.\u001b[39mloss_test \u001b[38;5;241m=\u001b[39m []\n\u001b[1;32m     17\u001b[0m \u001b[38;5;28;01mfor\u001b[39;00m i \u001b[38;5;129;01min\u001b[39;00m \u001b[38;5;28mrange\u001b[39m(\u001b[38;5;28mself\u001b[39m\u001b[38;5;241m.\u001b[39mepochs\u001b[38;5;241m+\u001b[39m\u001b[38;5;241m1\u001b[39m,\u001b[38;5;28mself\u001b[39m\u001b[38;5;241m.\u001b[39mepochs\u001b[38;5;241m+\u001b[39mepochs\u001b[38;5;241m+\u001b[39m\u001b[38;5;241m1\u001b[39m):\n\u001b[0;32m---> 18\u001b[0m     avg_loss_train \u001b[38;5;241m=\u001b[39m \u001b[38;5;28;43mself\u001b[39;49m\u001b[38;5;241;43m.\u001b[39;49m\u001b[43m_train_epoch_\u001b[49m\u001b[43m(\u001b[49m\u001b[43mdl_train\u001b[49m\u001b[43m,\u001b[49m\u001b[43m \u001b[49m\u001b[43mi\u001b[49m\u001b[43m)\u001b[49m\n\u001b[1;32m     19\u001b[0m     \u001b[38;5;28mself\u001b[39m\u001b[38;5;241m.\u001b[39mloss_train\u001b[38;5;241m.\u001b[39mappend(avg_loss_train)\n\u001b[1;32m     20\u001b[0m     \u001b[38;5;28;01mif\u001b[39;00m i\u001b[38;5;241m%\u001b[39mcheck\u001b[38;5;241m==\u001b[39m\u001b[38;5;241m0\u001b[39m \u001b[38;5;129;01mand\u001b[39;00m i \u001b[38;5;241m!=\u001b[39m\u001b[38;5;241m0\u001b[39m:\n",
      "Cell \u001b[0;32mIn[21], line 43\u001b[0m, in \u001b[0;36mWaveTrainer._train_epoch_\u001b[0;34m(self, dl_train, epoch)\u001b[0m\n\u001b[1;32m     41\u001b[0m     total_loss\u001b[38;5;241m.\u001b[39mbackward()\n\u001b[1;32m     42\u001b[0m     \u001b[38;5;28mself\u001b[39m\u001b[38;5;241m.\u001b[39mopt\u001b[38;5;241m.\u001b[39mstep()\n\u001b[0;32m---> 43\u001b[0m     epoch_loss \u001b[38;5;241m+\u001b[39m\u001b[38;5;241m=\u001b[39m \u001b[43mtotal_loss\u001b[49m\u001b[38;5;241;43m.\u001b[39;49m\u001b[43mitem\u001b[49m\u001b[43m(\u001b[49m\u001b[43m)\u001b[49m\n\u001b[1;32m     44\u001b[0m \u001b[38;5;28;01mreturn\u001b[39;00m epoch_loss \u001b[38;5;241m/\u001b[39m \u001b[38;5;28mlen\u001b[39m(dl_train)\n",
      "\u001b[0;31mKeyboardInterrupt\u001b[0m: "
     ]
    }
   ],
   "source": [
    "trainer_wave.train(epochs=100, dl_train=train_dl_idx, dl_test=val_dl_idx, check=10, save=True)"
   ]
  },
  {
   "cell_type": "code",
   "execution_count": null,
   "metadata": {},
   "outputs": [],
   "source": []
  },
  {
   "cell_type": "code",
   "execution_count": 29,
   "metadata": {},
   "outputs": [
    {
     "name": "stdout",
     "output_type": "stream",
     "text": [
      "torch.Size([32, 1, 1279]) torch.Size([32, 1279])\n",
      "torch.Size([32, 512, 1279])\n",
      "torch.Size([32, 512, 1279])\n",
      "torch.Size([32, 1279])\n",
      "tensor([ 9,  9,  9,  9,  9, 20,  8,  8,  9,  8], device='cuda:0')\n",
      "tensor([ 9., 20.,  2.,  1.,  8.,  2., 20.,  8., 10., 20.])\n",
      "tensor(726, device='cuda:0')\n"
     ]
    }
   ],
   "source": [
    "for _, (idx_src,idx_tgt) in enumerate(val_dl_idx):\n",
    "    print(idx_src.shape, idx_tgt.shape)\n",
    "    break\n",
    "logits = wave_vctk(idx_src.to(device).float())\n",
    "print(logits.shape)\n",
    "probs = F.softmax(logits, dim=1)\n",
    "print(probs.shape)\n",
    "preds = torch.argmax(probs, dim=1)\n",
    "print(preds.shape)\n",
    "print(preds[0, :10])\n",
    "print(idx_tgt[0, :10])\n",
    "print(torch.sum(preds[0]==idx_tgt.to(device)[0]))"
   ]
  }
 ],
 "metadata": {
  "kernelspec": {
   "display_name": "gen_venv",
   "language": "python",
   "name": "python3"
  },
  "language_info": {
   "codemirror_mode": {
    "name": "ipython",
    "version": 3
   },
   "file_extension": ".py",
   "mimetype": "text/x-python",
   "name": "python",
   "nbconvert_exporter": "python",
   "pygments_lexer": "ipython3",
   "version": "3.11.7"
  }
 },
 "nbformat": 4,
 "nbformat_minor": 2
}
